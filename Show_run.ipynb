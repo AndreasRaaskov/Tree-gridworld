{
 "cells": [
  {
   "cell_type": "code",
   "execution_count": 1,
   "metadata": {},
   "outputs": [
    {
     "name": "stdout",
     "output_type": "stream",
     "text": [
      "Using cpu device\n"
     ]
    }
   ],
   "source": [
    "from agent import RandomAgent, DQNAgent,greedyAgent\n",
    "from env import TreeGridWorld\n",
    "from visualize import render_log,plot_log\n",
    "import numpy as np\n",
    "import cv2\n",
    "import matplotlib.pyplot as plt"
   ]
  },
  {
   "cell_type": "code",
   "execution_count": 3,
   "metadata": {},
   "outputs": [],
   "source": [
    "# Initialize the environment and the agent\n",
    "env = TreeGridWorld()\n",
    "agent = greedyAgent()\n",
    "#agent = RandomAgent()"
   ]
  },
  {
   "cell_type": "markdown",
   "metadata": {},
   "source": [
    "Notebook for visulising how agents run."
   ]
  },
  {
   "cell_type": "code",
   "execution_count": 5,
   "metadata": {},
   "outputs": [
    {
     "name": "stdout",
     "output_type": "stream",
     "text": [
      "Episode: 0 Reward: 7 Trees: 10\n",
      "Episode: 1 Reward: 8 Trees: 10\n",
      "Episode: 2 Reward: 5 Trees: 10\n",
      "Episode: 3 Reward: 3 Trees: 10\n",
      "Episode: 4 Reward: 5 Trees: 10\n",
      "Episode: 5 Reward: 8 Trees: 9\n",
      "Episode: 6 Reward: 4 Trees: 10\n",
      "Episode: 7 Reward: 8 Trees: 10\n",
      "Episode: 8 Reward: 1 Trees: 10\n",
      "Episode: 9 Reward: 11 Trees: 10\n",
      "Episode: 10 Reward: 9 Trees: 10\n",
      "Episode: 11 Reward: 4 Trees: 10\n",
      "Episode: 12 Reward: 2 Trees: 10\n",
      "Episode: 13 Reward: 8 Trees: 10\n",
      "Episode: 14 Reward: 7 Trees: 10\n",
      "Episode: 15 Reward: 2 Trees: 10\n",
      "Episode: 16 Reward: 8 Trees: 10\n",
      "Episode: 17 Reward: 4 Trees: 10\n",
      "Episode: 18 Reward: 7 Trees: 10\n",
      "Episode: 19 Reward: 3 Trees: 10\n",
      "Episode: 20 Reward: 2 Trees: 10\n"
     ]
    }
   ],
   "source": [
    "# Run the agent on the environment\n",
    "num_episodes = 2*10**9\n",
    "num_steps_per_episode = 200\n",
    "log={'episode':[],'reward':[],'trees':[],'checkpoint':[]} #log for plotting\n",
    "temp_log={'episode':[],'reward':[],'trees':[],'checkpoint':[]} \n",
    "for episode in range(num_episodes):\n",
    "    observation = env.reset()\n",
    "    cumulative_reward = 0\n",
    "    for step in range(num_steps_per_episode):\n",
    "        action = agent.act(observation)\n",
    "        next_observation, reward, done, _ = env.step(action)\n",
    "\n",
    "        # save to agent's memory\n",
    "        agent.remember(observation, action , reward, next_observation, done)\n",
    "        observation = next_observation\n",
    "\n",
    "        cumulative_reward += reward\n",
    "        \n",
    "        # render the environment in CV2 window\n",
    "        env.render_cv()\n",
    "        if done:\n",
    "            break\n",
    "    \n",
    "    # train the agent with the experience of the episode\n",
    "    agent.replay(num_steps_per_episode)\n",
    "    temp_log['episode'].append(episode)\n",
    "    temp_log['reward'].append(cumulative_reward)\n",
    "    temp_log['trees'].append(env.current_num_trees)\n",
    "    if episode%100==0:\n",
    "        log['episode'].append(np.mean(temp_log['episode']))\n",
    "        log['reward'].append(np.mean(temp_log['reward']))\n",
    "        log['trees'].append(np.mean(temp_log['trees']))\n",
    "\n",
    "        #Reset temp_log\n",
    "        temp_log={'episode':[],'reward':[],'trees':[],'checkpoint':[]}\n",
    "    print('Episode: {} Reward: {} Trees: {}'.format(episode, cumulative_reward, env.current_num_trees))"
   ]
  }
 ],
 "metadata": {
  "kernelspec": {
   "display_name": "miniRL",
   "language": "python",
   "name": "python3"
  },
  "language_info": {
   "codemirror_mode": {
    "name": "ipython",
    "version": 3
   },
   "file_extension": ".py",
   "mimetype": "text/x-python",
   "name": "python",
   "nbconvert_exporter": "python",
   "pygments_lexer": "ipython3",
   "version": "3.10.12"
  },
  "orig_nbformat": 4
 },
 "nbformat": 4,
 "nbformat_minor": 2
}
