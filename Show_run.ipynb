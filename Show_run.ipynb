{
 "cells": [
  {
   "cell_type": "code",
   "execution_count": 1,
   "metadata": {},
   "outputs": [],
   "source": [
    "from agent import RandomAgent, DQNAgent,greedyAgent\n",
    "from env import TreeGridWorld\n",
    "from visualize import render_log,plot_log\n",
    "import numpy as np\n",
    "import cv2\n",
    "import matplotlib.pyplot as plt"
   ]
  },
  {
   "cell_type": "code",
   "execution_count": null,
   "metadata": {},
   "outputs": [],
   "source": [
    "# Initialize the environment and the agent\n",
    "env = TreeGridWorld()\n",
    "#agent = greedyAgent()\n",
    "\n",
    "# agent = RandomAgent()\n",
    "\n",
    "agent = DQNAgent()\n",
    "agent.load(\"checkpoints\\c_70000_model.pt\")\n",
    "\n",
    "agent.epsilon = 0.0 # set epsilon to 0 to make the agent greedy"
   ]
  },
  {
   "cell_type": "markdown",
   "metadata": {},
   "source": [
    "Notebook for visulising how agents run."
   ]
  },
  {
   "cell_type": "code",
   "execution_count": null,
   "metadata": {},
   "outputs": [
    {
     "name": "stdout",
     "output_type": "stream",
     "text": [
      "Episode: 0 Reward: 38 Trees: 0\n",
      "Episode: 1 Reward: 3 Trees: 10\n",
      "Episode: 2 Reward: 40 Trees: 6\n",
      "Episode: 3 Reward: 46 Trees: 2\n",
      "Episode: 4 Reward: 47 Trees: 6\n",
      "Episode: 5 Reward: 20 Trees: 0\n",
      "Episode: 6 Reward: 32 Trees: 3\n",
      "Episode: 7 Reward: 13 Trees: 10\n",
      "Episode: 8 Reward: 8 Trees: 10\n",
      "Episode: 9 Reward: 4 Trees: 10\n",
      "Episode: 10 Reward: 0 Trees: 10\n",
      "Episode: 11 Reward: 2 Trees: 10\n",
      "Episode: 12 Reward: 3 Trees: 10\n",
      "Episode: 13 Reward: 11 Trees: 10\n",
      "Episode: 14 Reward: 8 Trees: 10\n",
      "Episode: 15 Reward: 42 Trees: 5\n",
      "Episode: 16 Reward: 25 Trees: 1\n",
      "Episode: 17 Reward: 33 Trees: 2\n",
      "Episode: 18 Reward: 4 Trees: 10\n",
      "Episode: 19 Reward: 32 Trees: 0\n"
     ]
    }
   ],
   "source": [
    "# Run the agent on the environment\n",
    "num_episodes = 2*10**9\n",
    "num_steps_per_episode = 400\n",
    "\n",
    "log={'episode':[],'reward':[],'trees':[],'checkpoint':[]} #log for plotting\n",
    "temp_log={'episode':[],'reward':[],'trees':[],'checkpoint':[]} \n",
    "for episode in range(num_episodes):\n",
    "    observation = env.reset()\n",
    "    cumulative_reward = 0\n",
    "    for step in range(num_steps_per_episode):\n",
    "        action = agent.act(observation)\n",
    "        next_observation, reward, done, _ = env.step(action)\n",
    "\n",
    "        # save to agent's memory\n",
    "        agent.remember(observation, action , reward, next_observation, done)\n",
    "        observation = next_observation\n",
    "\n",
    "        cumulative_reward += reward\n",
    "        \n",
    "        # render the environment in CV2 window\n",
    "        env.render_cv()\n",
    "        if done:\n",
    "            break\n",
    "    \n",
    "    # train the agent with the experience of the episode\n",
    "    agent.replay(num_steps_per_episode)\n",
    "    temp_log['episode'].append(episode)\n",
    "    temp_log['reward'].append(cumulative_reward)\n",
    "    temp_log['trees'].append(env.current_num_trees)\n",
    "    if episode%100==0:\n",
    "        log['episode'].append(np.mean(temp_log['episode']))\n",
    "        log['reward'].append(np.mean(temp_log['reward']))\n",
    "        log['trees'].append(np.mean(temp_log['trees']))\n",
    "\n",
    "        #Reset temp_log\n",
    "        temp_log={'episode':[],'reward':[],'trees':[],'checkpoint':[]}\n",
    "    print('Episode: {} Reward: {} Trees: {}'.format(episode, cumulative_reward, env.current_num_trees))"
   ]
  }
 ],
 "metadata": {
  "kernelspec": {
   "display_name": "miniRL",
   "language": "python",
   "name": "python3"
  },
  "language_info": {
   "codemirror_mode": {
    "name": "ipython",
    "version": 3
   },
   "file_extension": ".py",
   "mimetype": "text/x-python",
   "name": "python",
   "nbconvert_exporter": "python",
   "pygments_lexer": "ipython3",
   "version": "3.10.12"
  },
  "orig_nbformat": 4
 },
 "nbformat": 4,
 "nbformat_minor": 2
}
